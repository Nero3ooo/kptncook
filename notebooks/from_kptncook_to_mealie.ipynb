{
 "cells": [
  {
   "cell_type": "code",
   "execution_count": 18,
   "id": "6e097d22-88c1-45ae-bc41-89479dd91df0",
   "metadata": {},
   "outputs": [],
   "source": [
    "import json\n",
    "\n",
    "from pathlib import Path\n",
    "\n",
    "from kptncook.models import Recipe\n",
    "from kptncook.mealie import kptncook_to_mealie"
   ]
  },
  {
   "cell_type": "code",
   "execution_count": 17,
   "id": "f475c657-110d-4150-b977-03a88f6d7ae5",
   "metadata": {},
   "outputs": [],
   "source": [
    "example_path = Path.cwd().parent / \"tests\" / \"fixtures\" / \"kptncook_example.json\"\n",
    "with example_path.open(\"r\") as f:\n",
    "    example = json.load(f)\n",
    "recipe = Recipe.parse_obj(example)"
   ]
  },
  {
   "cell_type": "code",
   "execution_count": 20,
   "id": "1a2d7fe6-a69b-4150-bb52-5a2354fc2441",
   "metadata": {},
   "outputs": [],
   "source": [
    "mealie_recipe = kptncook_to_mealie(recipe)"
   ]
  },
  {
   "cell_type": "code",
   "execution_count": 21,
   "id": "c025405f-a5b5-4f23-b08e-973e358610ef",
   "metadata": {},
   "outputs": [
    {
     "data": {
      "text/plain": [
       "Recipe(id=None, user_id=None, group_id=None, name='Chili sin Carne', slug='', image=None, recipe_yield=None, total_time=None, prep_time='30', cook_time=None, perform_time=None, description='', recipe_category=[], tags=[], tools=[], rating=None, org_url=None, recipe_ingredient=[RecipeIngredient(title='Koriander, frisch', note=None, unit=None, food=None, disable_amount=True, quantity=1), RecipeIngredient(title='Tomatenmark', note=None, unit=None, food=None, disable_amount=True, quantity=1), RecipeIngredient(title='Mais, Dose od. Glas', note=None, unit=None, food=None, disable_amount=True, quantity=1), RecipeIngredient(title='Saure Sahne', note=None, unit=None, food=None, disable_amount=True, quantity=1), RecipeIngredient(title='Avocado', note=None, unit=None, food=None, disable_amount=True, quantity=1), RecipeIngredient(title='Speisezwiebel', note=None, unit=None, food=None, disable_amount=True, quantity=1), RecipeIngredient(title='Limette', note=None, unit=None, food=None, disable_amount=True, quantity=1), RecipeIngredient(title='Kidney Bohne, Dose od. Glas', note=None, unit=None, food=None, disable_amount=True, quantity=1), RecipeIngredient(title='Tomate, gestückelt', note=None, unit=None, food=None, disable_amount=True, quantity=1), RecipeIngredient(title='Tortilla Chip', note=None, unit=None, food=None, disable_amount=True, quantity=1)], date_added=None, date_updated=None, recipe_instructions=[RecipeStep(title=None, text='Alles parat?', ingredient_references=[]), RecipeStep(title=None, text='Zwiebel schälen und fein würfeln oder reiben.', ingredient_references=[]), RecipeStep(title=None, text='Knoblauch schälen und hacken.', ingredient_references=[]), RecipeStep(title=None, text='Koriander waschen, trocken schütteln und Blätter vom Strunk abzupfen. Blätter grob hacken und zur Seite stellen. Strunk fein hacken.', ingredient_references=[]), RecipeStep(title=None, text='Oregano, Kreuzkümmel, Chili-und Paprikapulver mit Tomatenmark vermengen.', ingredient_references=[]), RecipeStep(title=None, text='Olivenöl in einer Pfanne auf mittlerer Stufe erhitzen. Zwiebel, Knoblauch, Korianderstrunk hineingeben und unter häufigem Rühren ca. <timer> braten, bis die Zwiebeln glasig sind.', ingredient_references=[]), RecipeStep(title=None, text='Tomaten-Mischung dazugeben und ca. <timer> unter häufigem Rühren kochen, bis die Tomaten-Mischung eindickt.', ingredient_references=[]), RecipeStep(title=None, text='Tomaten dazugeben und ca. <timer> köcheln lassen.', ingredient_references=[]), RecipeStep(title=None, text='Abgespülte Bohnen, Mais, Salz und Wasser dazugeben. Erst auf hoher Stufe zum Kochen bringen und dann auf niedriger Hitze <timer> köcheln lassen. Dabei gelegentlich umrühren.', ingredient_references=[]), RecipeStep(title=None, text='Mit einem Holzlöffel ein Viertel der Bohnen zerdrücken. Mit Limettensaft verfeinern.', ingredient_references=[]), RecipeStep(title=None, text='Chili in die Schalen geben, mit saurer Sahne, Avocado, Korianderblättern, Zwiebelwürfeln und Tortilla Chips garnieren. Mit Pfeffer würzen und genießen.', ingredient_references=[])], nutrition=Nutrition(calories='835', fat_content='29', protein_content='36', carbohydrate_content='102', fiber_content=None, sodium_content=None, sugar_content=None), settings=RecipeSettings(public=False, show_nutrition=False, show_assets=False, landscape_view=False, disable_comments=True, disable_amount=True, locked=False), assets=[], notes=[RecipeNote(title='author comment', text='Hot stuff')], extras={})"
      ]
     },
     "execution_count": 21,
     "metadata": {},
     "output_type": "execute_result"
    }
   ],
   "source": [
    "mealie_recipe"
   ]
  },
  {
   "cell_type": "code",
   "execution_count": null,
   "id": "dd9a3f7f-c141-49ea-b5fd-e19e78535f81",
   "metadata": {},
   "outputs": [],
   "source": []
  }
 ],
 "metadata": {
  "kernelspec": {
   "display_name": "Python 3 (ipykernel)",
   "language": "python",
   "name": "python3"
  },
  "language_info": {
   "codemirror_mode": {
    "name": "ipython",
    "version": 3
   },
   "file_extension": ".py",
   "mimetype": "text/x-python",
   "name": "python",
   "nbconvert_exporter": "python",
   "pygments_lexer": "ipython3",
   "version": "3.10.4"
  }
 },
 "nbformat": 4,
 "nbformat_minor": 5
}
