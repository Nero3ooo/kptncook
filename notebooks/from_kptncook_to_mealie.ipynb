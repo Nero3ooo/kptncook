{
 "cells": [
  {
   "cell_type": "code",
   "execution_count": 1,
   "id": "6e097d22-88c1-45ae-bc41-89479dd91df0",
   "metadata": {},
   "outputs": [],
   "source": [
    "import json\n",
    "\n",
    "from pathlib import Path\n",
    "\n",
    "from kptncook.config import settings\n",
    "from kptncook.models import Recipe\n",
    "from kptncook.mealie import kptncook_to_mealie\n",
    "\n",
    "from kptncook.mealie import MealieApiClient"
   ]
  },
  {
   "cell_type": "code",
   "execution_count": 2,
   "id": "f475c657-110d-4150-b977-03a88f6d7ae5",
   "metadata": {},
   "outputs": [],
   "source": [
    "example_path = Path.cwd().parent / \"tests\" / \"fixtures\" / \"kptncook_example.json\"\n",
    "with example_path.open(\"r\") as f:\n",
    "    example = json.load(f)\n",
    "recipe = Recipe.parse_obj(example)"
   ]
  },
  {
   "cell_type": "code",
   "execution_count": 3,
   "id": "1be4cc88-2ce3-476f-9835-411cccd2498f",
   "metadata": {},
   "outputs": [
    {
     "data": {
      "text/plain": [
       "40.0"
      ]
     },
     "execution_count": 3,
     "metadata": {},
     "output_type": "execute_result"
    }
   ],
   "source": [
    "recipe.ingredients[0].quantity"
   ]
  },
  {
   "cell_type": "code",
   "execution_count": 4,
   "id": "191b195c-a56d-4933-9410-333d86099041",
   "metadata": {},
   "outputs": [
    {
     "data": {
      "text/plain": [
       "[Ingredient(quantity=None, measure=None, ingredient=IngredientDetails(typ='basic', localized_title=LocalizedString(en='salt', de='Salz', es='sal', fr='sel', pt='sal'), uncountableTitle=LocalizedString(en='salt', de='Salz', es='sal', fr='sel', pt='sal'), category='SpicesSeasoning')),\n",
       " Ingredient(quantity=None, measure=None, ingredient=IngredientDetails(typ='basic', localized_title=LocalizedString(en='pepper', de='Pfeffer', es='pimienta', fr='poivre', pt='pimenta'), uncountableTitle=LocalizedString(en='pepper', de='Pfeffer', es='pimienta', fr='poivre', pt='pimenta'), category='SpicesSeasoning'))]"
      ]
     },
     "execution_count": 4,
     "metadata": {},
     "output_type": "execute_result"
    }
   ],
   "source": [
    "[i for i in recipe.ingredients if i.quantity is None]"
   ]
  },
  {
   "cell_type": "code",
   "execution_count": 5,
   "id": "4b82f06d-afbb-459b-9bc8-52d2422394a2",
   "metadata": {},
   "outputs": [
    {
     "data": {
      "text/plain": [
       "'g'"
      ]
     },
     "execution_count": 5,
     "metadata": {},
     "output_type": "execute_result"
    }
   ],
   "source": [
    "recipe.ingredients[0].measure"
   ]
  },
  {
   "cell_type": "code",
   "execution_count": 6,
   "id": "78c4d929-3c4a-49f7-ab18-db13c20c3c9e",
   "metadata": {},
   "outputs": [
    {
     "data": {
      "text/plain": [
       "['g', None, 'g', 'EL', None, None, 'g', 'g', 'g', 'Zehe(n)', 'g', None, 'g']"
      ]
     },
     "execution_count": 6,
     "metadata": {},
     "output_type": "execute_result"
    }
   ],
   "source": [
    "[ig.measure for ig in recipe.ingredients]"
   ]
  },
  {
   "cell_type": "code",
   "execution_count": 7,
   "id": "1a2d7fe6-a69b-4150-bb52-5a2354fc2441",
   "metadata": {},
   "outputs": [],
   "source": [
    "mealie_recipe = kptncook_to_mealie(recipe)"
   ]
  },
  {
   "cell_type": "code",
   "execution_count": 8,
   "id": "45dfc3b5-a1ec-4f0e-ac71-b7f98cf53aa0",
   "metadata": {},
   "outputs": [
    {
     "data": {
      "text/plain": [
       "'https://d2am1qai33sroc.cloudfront.net/image/636936644f000036005a5593?kptnkey=6q7QNKy-oIgk-IMuWisJ-jfN7s6'"
      ]
     },
     "execution_count": 8,
     "metadata": {},
     "output_type": "execute_result"
    }
   ],
   "source": [
    "mealie_recipe.image_url"
   ]
  },
  {
   "cell_type": "code",
   "execution_count": 9,
   "id": "c025405f-a5b5-4f23-b08e-973e358610ef",
   "metadata": {},
   "outputs": [],
   "source": [
    "# mealie_recipe.image_url"
   ]
  },
  {
   "cell_type": "code",
   "execution_count": 10,
   "id": "37238f4c-ec4a-4850-a44f-34a205e19984",
   "metadata": {},
   "outputs": [
    {
     "data": {
      "text/plain": [
       "[RecipeIngredient(title='Erbse, tiefgefroren', note=None, unit=Unit(id=None, name='g', description='', fraction=True, abbreviation=''), food=None, disable_amount=True, quantity=20.0),\n",
       " RecipeIngredient(title='Zitrone', note=None, unit=None, food=None, disable_amount=True, quantity=0.25),\n",
       " RecipeIngredient(title='Dill, frisch', note=None, unit=Unit(id=None, name='g', description='', fraction=True, abbreviation=''), food=None, disable_amount=True, quantity=2.5),\n",
       " RecipeIngredient(title='Olivenöl', note=None, unit=Unit(id=None, name='EL', description='', fraction=True, abbreviation=''), food=None, disable_amount=True, quantity=0.5),\n",
       " RecipeIngredient(title='Salz', note=None, unit=None, food=None, disable_amount=True, quantity=None),\n",
       " RecipeIngredient(title='Pfeffer', note=None, unit=None, food=None, disable_amount=True, quantity=None),\n",
       " RecipeIngredient(title='Muschelnudel, groß', note=None, unit=Unit(id=None, name='g', description='', fraction=True, abbreviation=''), food=None, disable_amount=True, quantity=40.0),\n",
       " RecipeIngredient(title='Lachsfilet, tiefgefroren', note=None, unit=Unit(id=None, name='g', description='', fraction=True, abbreviation=''), food=None, disable_amount=True, quantity=50.0),\n",
       " RecipeIngredient(title='Schlagsahne', note=None, unit=Unit(id=None, name='g', description='', fraction=True, abbreviation=''), food=None, disable_amount=True, quantity=20.0),\n",
       " RecipeIngredient(title='Knoblauch', note=None, unit=Unit(id=None, name='Zehe(n)', description='', fraction=True, abbreviation=''), food=None, disable_amount=True, quantity=0.25),\n",
       " RecipeIngredient(title='Senf-Dill-Sauce', note=None, unit=Unit(id=None, name='g', description='', fraction=True, abbreviation=''), food=None, disable_amount=True, quantity=20.0),\n",
       " RecipeIngredient(title='Speisezwiebel', note=None, unit=None, food=None, disable_amount=True, quantity=0.5),\n",
       " RecipeIngredient(title='Parmesan', note=None, unit=Unit(id=None, name='g', description='', fraction=True, abbreviation=''), food=None, disable_amount=True, quantity=2.5)]"
      ]
     },
     "execution_count": 10,
     "metadata": {},
     "output_type": "execute_result"
    }
   ],
   "source": [
    "mealie_recipe.recipe_ingredient"
   ]
  },
  {
   "cell_type": "markdown",
   "id": "b80ee7f6-d952-42b0-b68a-cc63495d9726",
   "metadata": {},
   "source": [
    "# Import via Api"
   ]
  },
  {
   "cell_type": "code",
   "execution_count": 11,
   "id": "6b0ca50c-b2b9-45de-acdf-894fca07f165",
   "metadata": {},
   "outputs": [
    {
     "name": "stdin",
     "output_type": "stream",
     "text": [
      " ········\n"
     ]
    }
   ],
   "source": [
    "client = MealieApiClient(\"http://localhost:9000/api\")\n",
    "client.login(username=\"jochen\")"
   ]
  },
  {
   "cell_type": "code",
   "execution_count": 12,
   "id": "d616df3f-b6d8-436a-bd36-cf78fc724014",
   "metadata": {},
   "outputs": [
    {
     "name": "stdout",
     "output_type": "stream",
     "text": [
      "uberbackene-muschelnudeln-mit-lachs-senf-dill-sauce\n",
      "{\"id\":\"ebf8cd5f-2887-4106-b6d5-9e055f5beb03\",\"userId\":\"d1b5874c-4815-43a6-bba9-5c9b3b961810\",\"groupId\":\"5aa776c9-b1af-4713-9e92-e563153a96a0\",\"name\":\"Überbackene Muschelnudeln mit Lachs & Senf-Dill-Sauce\",\"slug\":\"uberbackene-muschelnudeln-mit-lachs-senf-dill-sauce\",\"image\":null,\"recipeYield\":\"1 Portionen\",\"totalTime\":null,\"prepTime\":\"25\",\"cookTime\":\"10\",\"performTime\":null,\"description\":\"\",\"recipeCategory\":[],\"tags\":[],\"tools\":[],\"rating\":null,\"orgURL\":null,\"recipeIngredient\":[{\"title\":\"Erbse, tiefgefroren\",\"note\":null,\"unit\":{\"name\":\"g\",\"description\":\"\",\"extras\":{},\"fraction\":true,\"abbreviation\":\"\",\"useAbbreviation\":false,\"id\":\"ce5d051b-b560-4652-8f75-9d803bed9683\",\"createdAt\":\"2022-12-03T10:11:39.902417\",\"updateAt\":\"2022-12-03T10:11:39.902422\"},\"food\":null,\"disableAmount\":true,\"quantity\":20.0,\"originalText\":null,\"referenceId\":\"919bd605-a44b-4232-ba0c-50af3a5f1a79\"},{\"title\":\"Zitrone\",\"note\":null,\"unit\":null,\"food\":null,\"disableAmount\":true,\"quantity\":0.25,\"originalText\":null,\"referenceId\":\"b2d3675e-3ed2-4fe2-bf06-a1c4667e5d7a\"},{\"title\":\"Dill, frisch\",\"note\":null,\"unit\":{\"name\":\"g\",\"description\":\"\",\"extras\":{},\"fraction\":true,\"abbreviation\":\"\",\"useAbbreviation\":false,\"id\":\"ce5d051b-b560-4652-8f75-9d803bed9683\",\"createdAt\":\"2022-12-03T10:11:39.902417\",\"updateAt\":\"2022-12-03T10:11:39.902422\"},\"food\":null,\"disableAmount\":true,\"quantity\":2.5,\"originalText\":null,\"referenceId\":\"937b1360-c83a-4048-ba30-bfb69bc3ef55\"},{\"title\":\"Olivenöl\",\"note\":null,\"unit\":{\"name\":\"EL\",\"description\":\"\",\"extras\":{},\"fraction\":true,\"abbreviation\":\"\",\"useAbbreviation\":false,\"id\":\"974f9076-f796-485f-b217-2bba097afd4e\",\"createdAt\":\"2022-12-03T10:11:39.871208\",\"updateAt\":\"2022-12-03T10:11:39.871214\"},\"food\":null,\"disableAmount\":true,\"quantity\":0.5,\"originalText\":null,\"referenceId\":\"2b46da64-1695-449b-bfe5-fbe838e156fb\"},{\"title\":\"Salz\",\"note\":null,\"unit\":null,\"food\":null,\"disableAmount\":true,\"quantity\":null,\"originalText\":null,\"referenceId\":\"5d90b5e6-d65f-4232-bfd7-01ea6bb81923\"},{\"title\":\"Pfeffer\",\"note\":null,\"unit\":null,\"food\":null,\"disableAmount\":true,\"quantity\":null,\"originalText\":null,\"referenceId\":\"850ab51d-c475-4aa7-95fb-1e43035b0e36\"},{\"title\":\"Muschelnudel, groß\",\"note\":null,\"unit\":{\"name\":\"g\",\"description\":\"\",\"extras\":{},\"fraction\":true,\"abbreviation\":\"\",\"useAbbreviation\":false,\"id\":\"ce5d051b-b560-4652-8f75-9d803bed9683\",\"createdAt\":\"2022-12-03T10:11:39.902417\",\"updateAt\":\"2022-12-03T10:11:39.902422\"},\"food\":null,\"disableAmount\":true,\"quantity\":40.0,\"originalText\":null,\"referenceId\":\"ba9987c7-7bb5-420e-8d57-0b3fd1353996\"},{\"title\":\"Lachsfilet, tiefgefroren\",\"note\":null,\"unit\":{\"name\":\"g\",\"description\":\"\",\"extras\":{},\"fraction\":true,\"abbreviation\":\"\",\"useAbbreviation\":false,\"id\":\"ce5d051b-b560-4652-8f75-9d803bed9683\",\"createdAt\":\"2022-12-03T10:11:39.902417\",\"updateAt\":\"2022-12-03T10:11:39.902422\"},\"food\":null,\"disableAmount\":true,\"quantity\":50.0,\"originalText\":null,\"referenceId\":\"17480149-2219-419c-9408-9bdd8c57b4b1\"},{\"title\":\"Schlagsahne\",\"note\":null,\"unit\":{\"name\":\"g\",\"description\":\"\",\"extras\":{},\"fraction\":true,\"abbreviation\":\"\",\"useAbbreviation\":false,\"id\":\"ce5d051b-b560-4652-8f75-9d803bed9683\",\"createdAt\":\"2022-12-03T10:11:39.902417\",\"updateAt\":\"2022-12-03T10:11:39.902422\"},\"food\":null,\"disableAmount\":true,\"quantity\":20.0,\"originalText\":null,\"referenceId\":\"c29aff6d-5ffa-4846-98e2-2050c6142d64\"},{\"title\":\"Knoblauch\",\"note\":null,\"unit\":{\"name\":\"Zehe(n)\",\"description\":\"\",\"extras\":{},\"fraction\":true,\"abbreviation\":\"\",\"useAbbreviation\":false,\"id\":\"d7effe77-bbb7-4527-9e75-5b06e60286e1\",\"createdAt\":\"2022-12-03T10:11:39.888240\",\"updateAt\":\"2022-12-03T10:11:39.888245\"},\"food\":null,\"disableAmount\":true,\"quantity\":0.25,\"originalText\":null,\"referenceId\":\"4dcfc458-21e6-4ebd-b418-bcb88b24d2a0\"},{\"title\":\"Senf-Dill-Sauce\",\"note\":null,\"unit\":{\"name\":\"g\",\"description\":\"\",\"extras\":{},\"fraction\":true,\"abbreviation\":\"\",\"useAbbreviation\":false,\"id\":\"ce5d051b-b560-4652-8f75-9d803bed9683\",\"createdAt\":\"2022-12-03T10:11:39.902417\",\"updateAt\":\"2022-12-03T10:11:39.902422\"},\"food\":null,\"disableAmount\":true,\"quantity\":20.0,\"originalText\":null,\"referenceId\":\"6f169bb8-0c31-4828-a315-d5172c65233c\"},{\"title\":\"Speisezwiebel\",\"note\":null,\"unit\":null,\"food\":null,\"disableAmount\":true,\"quantity\":0.5,\"originalText\":null,\"referenceId\":\"9bf84271-6596-4a1a-bf98-16dc9cff3a05\"},{\"title\":\"Parmesan\",\"note\":null,\"unit\":{\"name\":\"g\",\"description\":\"\",\"extras\":{},\"fraction\":true,\"abbreviation\":\"\",\"useAbbreviation\":false,\"id\":\"ce5d051b-b560-4652-8f75-9d803bed9683\",\"createdAt\":\"2022-12-03T10:11:39.902417\",\"updateAt\":\"2022-12-03T10:11:39.902422\"},\"food\":null,\"disableAmount\":true,\"quantity\":2.5,\"originalText\":null,\"referenceId\":\"cd5b6d97-6f57-4c26-ade4-634139ebe94a\"}],\"dateAdded\":null,\"dateUpdated\":\"2022-12-03T10:16:02.517244\",\"createdAt\":null,\"updateAt\":null,\"lastMade\":null,\"recipeInstructions\":[{\"id\":\"ef5f95fe-cc98-400b-820f-a28ba59aa9d8\",\"title\":null,\"text\":\"Alles parat?\",\"ingredientReferences\":[]},{\"id\":\"4b793546-4cb4-4640-923a-18a9e80d68d4\",\"title\":null,\"text\":\"Lachsfilets bei Bedarf auftauen.\",\"ingredientReferences\":[]},{\"id\":\"9a92c020-3a1d-47f5-944a-c184004b90dd\",\"title\":null,\"text\":\"Pasta nach Packungsanleitung zubereiten.\",\"ingredientReferences\":[]},{\"id\":\"211ba402-0d09-411e-8b77-be357eb3c81a\",\"title\":null,\"text\":\"Währenddessen etwas Olivenöl in einer Pfanne erhitzen und Lachsfilet von beiden Seiten bei mittlerer Hitze ca. 2-3 min. braten. Mit Salz und Pfeffer würzen und zur Seite stellen.\",\"ingredientReferences\":[]},{\"id\":\"d6d486b6-28b2-4ef5-af99-1f26f0280eb2\",\"title\":null,\"text\":\"Währenddessen Zwiebel schälen, halbieren und fein würfeln.\",\"ingredientReferences\":[]},{\"id\":\"fa4e9338-be3c-4268-aee3-d71b6b6d48d0\",\"title\":null,\"text\":\"Knoblauch schälen und reiben.\",\"ingredientReferences\":[]},{\"id\":\"4179028c-58e9-4b78-b90b-a9a67d31dc3d\",\"title\":null,\"text\":\"Restliches Öl in der gleichen Pfanne erhitzen. Zwiebeln und Knoblauch darin 2 min. braten. Mit Salz und Pfeffer würzen.\",\"ingredientReferences\":[]},{\"id\":\"9ac1ab20-5867-46d7-a28d-807711c55823\",\"title\":null,\"text\":\"Backofen auf 200 °C (Ober- und Unterhitze, empfohlen) vorheizen.\",\"ingredientReferences\":[]},{\"id\":\"e48b3a42-d626-4e65-942a-9ac53af02a70\",\"title\":null,\"text\":\"Zitrone gründlich mit heißem Wasser waschen und Schale abreiben.\",\"ingredientReferences\":[]},{\"id\":\"3e978900-c369-402d-94e7-426850e22931\",\"title\":null,\"text\":\"Dill waschen, trocken schütteln und fein hacken.\",\"ingredientReferences\":[]},{\"id\":\"277d1cb5-e283-4f33-bf3d-f2d568fa27ac\",\"title\":null,\"text\":\"Lachsfilet mit zwei Gabeln zerpflücken.\",\"ingredientReferences\":[]},{\"id\":\"e0ae6639-3111-4d8c-9c67-88e6706e04e8\",\"title\":null,\"text\":\"Parmesan reiben.\",\"ingredientReferences\":[]},{\"id\":\"d11e9fa7-5686-4c92-a666-f2c2f11b0eff\",\"title\":null,\"text\":\"Schlagsahne mit Senf-Dill-Sauce verrühren.\",\"ingredientReferences\":[]},{\"id\":\"410c3d28-2d72-4eaf-936a-b62d46e22b84\",\"title\":null,\"text\":\"In einer Auflaufform Erbsen, Zitronenabrieb, Zwiebelmischung und Dill mit Senf-Sahne-Sauce mischen.\",\"ingredientReferences\":[]},{\"id\":\"10dc48b9-eeb9-4f5d-9c54-7b3239123e87\",\"title\":null,\"text\":\"Muschelnudeln hinzugeben und dabei jeweils etwas Sauce in die Muschelnudeln füllen.\",\"ingredientReferences\":[]},{\"id\":\"c66a55b8-91ed-4735-9f30-b7f9462cc00f\",\"title\":null,\"text\":\"Lachsstücke auf die Muschelnudeln verteilen und mit Parmesan bestreuen. Ca. 10-12 min. im Ofen überbacken.\",\"ingredientReferences\":[]},{\"id\":\"70d64646-7336-4863-9936-a9b945cc99ba\",\"title\":null,\"text\":\"Nudel-Lachs-Auflauf nach Belieben mit mehr Kräutern servieren und genießen.\",\"ingredientReferences\":[]}],\"nutrition\":{\"calories\":\"900\",\"fatContent\":null,\"proteinContent\":null,\"carbohydrateContent\":null,\"fiberContent\":null,\"sodiumContent\":null,\"sugarContent\":null},\"settings\":{\"public\":true,\"showNutrition\":true,\"showAssets\":false,\"landscapeView\":false,\"disableComments\":false,\"disableAmount\":false,\"locked\":false},\"assets\":[],\"notes\":[{\"title\":\"author comment\",\"text\":\"Dieses Rezept lachst jeden an!\"}],\"extras\":{\"kptncook_id\":\"635a68635100007500061cd7\",\"source\":\"kptncook\"},\"isOcrRecipe\":false,\"comments\":[]}\n",
      "CPU times: user 34.4 ms, sys: 5.23 ms, total: 39.7 ms\n",
      "Wall time: 589 ms\n"
     ]
    },
    {
     "data": {
      "text/plain": [
       "Recipe(id=UUID('ebf8cd5f-2887-4106-b6d5-9e055f5beb03'), user_id=UUID('d1b5874c-4815-43a6-bba9-5c9b3b961810'), group_id=UUID('5aa776c9-b1af-4713-9e92-e563153a96a0'), name='Überbackene Muschelnudeln mit Lachs & Senf-Dill-Sauce', slug='uberbackene-muschelnudeln-mit-lachs-senf-dill-sauce', image=None, recipe_yield=None, total_time=None, prep_time=None, cook_time=None, perform_time=None, description='', recipe_category=[], tags=[], tools=[], rating=None, org_url=None, recipe_ingredient=[], date_added=None, date_updated=None, recipe_instructions=[], nutrition=Nutrition(calories='900', fat_content=None, protein_content=None, carbohydrate_content=None, fiber_content=None, sodium_content=None, sugar_content=None), settings=RecipeSettings(public=True, show_nutrition=True, show_assets=False, landscape_view=False, disable_comments=False, disable_amount=False, locked=False), assets=[], notes=[RecipeNote(title='author comment', text='Dieses Rezept lachst jeden an!')], extras={'kptncook_id': '635a68635100007500061cd7', 'source': 'kptncook'})"
      ]
     },
     "execution_count": 12,
     "metadata": {},
     "output_type": "execute_result"
    }
   ],
   "source": [
    "%%time\n",
    "client.create_recipe(mealie_recipe)"
   ]
  },
  {
   "cell_type": "code",
   "execution_count": null,
   "id": "285db6dd-44c6-4368-8081-62a68c3d22df",
   "metadata": {},
   "outputs": [],
   "source": []
  },
  {
   "cell_type": "code",
   "execution_count": 11,
   "id": "b03fb64f-dab1-498e-95dc-689c5b9ba140",
   "metadata": {},
   "outputs": [
    {
     "data": {
      "text/plain": [
       "[RecipeStep(title=None, text='Alles parat?', ingredientReferences=[], image=Image(name='REZ_3062_01.jpg', type='step', url='https://d2am1qai33sroc.cloudfront.net/image/63653b8d4b00007500b0c51d')),\n",
       " RecipeStep(title=None, text='Lachsfilets bei Bedarf auftauen.', ingredientReferences=[], image=Image(name='REZ_3062_18.jpg', type=None, url='https://d2am1qai33sroc.cloudfront.net/image/635a6d265100003600061cf6')),\n",
       " RecipeStep(title=None, text='Pasta nach Packungsanleitung zubereiten.', ingredientReferences=[], image=Image(name='REZ_3062_03.jpeg', type='step', url='https://d2am1qai33sroc.cloudfront.net/image/63653b8d4b00007500b0c51e')),\n",
       " RecipeStep(title=None, text='Währenddessen etwas Olivenöl in einer Pfanne erhitzen und Lachsfilet von beiden Seiten bei mittlerer Hitze ca. 2-3 min. braten. Mit Salz und Pfeffer würzen und zur Seite stellen.', ingredientReferences=[], image=Image(name='REZ_3062_04.jpg', type='step', url='https://d2am1qai33sroc.cloudfront.net/image/63653b8d4b00007500b0c51f')),\n",
       " RecipeStep(title=None, text='Währenddessen Zwiebel schälen, halbieren und fein würfeln.', ingredientReferences=[], image=Image(name='REZ_3062_18.jpg', type=None, url='https://d2am1qai33sroc.cloudfront.net/image/635a6dbb4d00007700773fed')),\n",
       " RecipeStep(title=None, text='Knoblauch schälen und reiben.', ingredientReferences=[], image=Image(name='REZ_3062_18.jpg', type=None, url='https://d2am1qai33sroc.cloudfront.net/image/60be43d5420000571f2f704b')),\n",
       " RecipeStep(title=None, text='Restliches Öl in der gleichen Pfanne erhitzen. Zwiebeln und Knoblauch darin 2 min. braten. Mit Salz und Pfeffer würzen.', ingredientReferences=[], image=Image(name='REZ_3062_07.jpg', type='step', url='https://d2am1qai33sroc.cloudfront.net/image/63653b8d4b00007500b0c520')),\n",
       " RecipeStep(title=None, text='Backofen auf 200\\u202f°C (Ober- und Unterhitze, empfohlen) vorheizen.', ingredientReferences=[], image=Image(name='REZ_3062_18.jpg', type=None, url='https://d2am1qai33sroc.cloudfront.net/image/617a6f683e0000b801833231')),\n",
       " RecipeStep(title=None, text='Zitrone gründlich mit heißem Wasser waschen und Schale abreiben.', ingredientReferences=[], image=Image(name='REZ_3062_18.jpg', type=None, url='https://d2am1qai33sroc.cloudfront.net/image/635a6e524b00003700a117ce')),\n",
       " RecipeStep(title=None, text='Dill waschen, trocken schütteln und fein hacken.', ingredientReferences=[], image=Image(name='REZ_3062_18.jpg', type=None, url='https://d2am1qai33sroc.cloudfront.net/image/619e0c38420000f7025a9318')),\n",
       " RecipeStep(title=None, text='Lachsfilet mit zwei Gabeln zerpflücken.', ingredientReferences=[], image=Image(name='REZ_3062_11.jpg', type='step', url='https://d2am1qai33sroc.cloudfront.net/image/63653b8d4b00007500b0c521')),\n",
       " RecipeStep(title=None, text='Parmesan reiben.', ingredientReferences=[], image=Image(name='REZ_3062_18.jpg', type=None, url='https://d2am1qai33sroc.cloudfront.net/image/607710626900008e00e79100')),\n",
       " RecipeStep(title=None, text='Schlagsahne mit Senf-Dill-Sauce verrühren.', ingredientReferences=[], image=Image(name='REZ_3062_13.jpg', type='step', url='https://d2am1qai33sroc.cloudfront.net/image/63653b8d4b00007500b0c522')),\n",
       " RecipeStep(title=None, text='In einer Auflaufform Erbsen, Zitronenabrieb, Zwiebelmischung und Dill mit Senf-Sahne-Sauce mischen.', ingredientReferences=[], image=Image(name='REZ_3062_14.jpg', type='step', url='https://d2am1qai33sroc.cloudfront.net/image/63653b8d4b00007500b0c523')),\n",
       " RecipeStep(title=None, text='Muschelnudeln hinzugeben und dabei jeweils etwas Sauce in die Muschelnudeln füllen.', ingredientReferences=[], image=Image(name='REZ_3062_15.jpg', type='step', url='https://d2am1qai33sroc.cloudfront.net/image/63653b8d4b00007500b0c524')),\n",
       " RecipeStep(title=None, text='Lachsstücke auf die Muschelnudeln verteilen und mit Parmesan bestreuen. Ca. 10-12 min. im Ofen überbacken.', ingredientReferences=[], image=Image(name='REZ_3062_16.jpg', type='step', url='https://d2am1qai33sroc.cloudfront.net/image/63653b8d4b00007500b0c525')),\n",
       " RecipeStep(title=None, text='Nudel-Lachs-Auflauf nach Belieben mit mehr Kräutern servieren und genießen.', ingredientReferences=[], image=Image(name='REZ_3062_17.jpg', type='step', url='https://d2am1qai33sroc.cloudfront.net/image/6369362c4c00006f00a1e077'))]"
      ]
     },
     "execution_count": 11,
     "metadata": {},
     "output_type": "execute_result"
    }
   ],
   "source": [
    "mealie_recipe.recipe_instructions"
   ]
  },
  {
   "cell_type": "code",
   "execution_count": 10,
   "id": "64ce518e-c9a2-4a18-9686-2d1f1455f03a",
   "metadata": {},
   "outputs": [
    {
     "data": {
      "text/plain": [
       "[]"
      ]
     },
     "execution_count": 10,
     "metadata": {},
     "output_type": "execute_result"
    }
   ],
   "source": [
    "mealie_recipe.tags"
   ]
  },
  {
   "cell_type": "markdown",
   "id": "3af36c1e-9a74-4c12-95b9-6cab3c09a31f",
   "metadata": {},
   "source": [
    "# Get all KptnCook Recipes"
   ]
  },
  {
   "cell_type": "code",
   "execution_count": 9,
   "id": "11cac9ea-6e6f-496c-b93d-43e601dd426b",
   "metadata": {},
   "outputs": [],
   "source": [
    "recipes = client.get_all_recipes()"
   ]
  },
  {
   "cell_type": "code",
   "execution_count": 10,
   "id": "82aff007-9557-4f10-bfff-f189b68ddb1d",
   "metadata": {},
   "outputs": [],
   "source": [
    "recipes_with_details = []\n",
    "for recipe in recipes:\n",
    "    recipes_with_details.append(client.get_via_slug(recipe.slug))"
   ]
  },
  {
   "cell_type": "code",
   "execution_count": 11,
   "id": "aee4e05f-b37a-48bd-8d8f-874c3f954420",
   "metadata": {},
   "outputs": [
    {
     "data": {
      "text/plain": [
       "{'kptncook_id': '5e5390e2740000cdf1381c64', 'source': 'kptncook'}"
      ]
     },
     "execution_count": 11,
     "metadata": {},
     "output_type": "execute_result"
    }
   ],
   "source": [
    "recipes_with_details[0].extras"
   ]
  },
  {
   "cell_type": "code",
   "execution_count": 12,
   "id": "b8042872-2c5e-484c-a602-947d7b858173",
   "metadata": {},
   "outputs": [],
   "source": [
    "kc_recipes = [r for r in recipes_with_details if r.extras.get(\"source\") == \"kptncook\"]"
   ]
  },
  {
   "cell_type": "code",
   "execution_count": 13,
   "id": "1711ac76-1075-4156-b97d-2504aab6adb9",
   "metadata": {},
   "outputs": [
    {
     "data": {
      "text/plain": [
       "[Recipe(id=UUID('756c3a9c-739d-4598-b96d-7a1f878177a4'), user_id=UUID('899979e8-f240-4d53-8ed3-eaeac21ecd53'), group_id=UUID('71aae446-1aa5-4db7-9782-4021692cd0ce'), name='Chili sin Carne', slug='chili-sin-carne', image=None, recipe_yield=None, total_time=None, prep_time=None, cook_time=None, perform_time=None, description='', recipe_category=[], tags=[RecipeTag(name='kptncook')], tools=[], rating=None, org_url=None, recipe_ingredient=[], date_added=None, date_updated=None, recipe_instructions=[], nutrition=Nutrition(calories='835', fat_content=None, protein_content=None, carbohydrate_content=None, fiber_content=None, sodium_content=None, sugar_content=None), settings=RecipeSettings(public=False, show_nutrition=False, show_assets=False, landscape_view=False, disable_comments=True, disable_amount=True, locked=False), assets=[], notes=[RecipeNote(title='author comment', text='Hot stuff')], extras={'kptncook_id': '5e5390e2740000cdf1381c64', 'source': 'kptncook'})]"
      ]
     },
     "execution_count": 13,
     "metadata": {},
     "output_type": "execute_result"
    }
   ],
   "source": [
    "kc_recipes"
   ]
  },
  {
   "cell_type": "markdown",
   "id": "1c409f2b-687a-4133-9a63-e9df87a19c32",
   "metadata": {},
   "source": [
    "# Sync"
   ]
  },
  {
   "cell_type": "code",
   "execution_count": 14,
   "id": "8d6dd063-b2da-4d1d-af4a-eb0267cba5ba",
   "metadata": {},
   "outputs": [],
   "source": [
    "from kptncook.repositories import RecipeRepository"
   ]
  },
  {
   "cell_type": "code",
   "execution_count": 15,
   "id": "ae9f61df-d88a-4251-a779-8570e87ad532",
   "metadata": {},
   "outputs": [],
   "source": [
    "repo = RecipeRepository(settings.root)"
   ]
  },
  {
   "cell_type": "code",
   "execution_count": 17,
   "id": "67ad0589-3f50-4e47-bbe6-dd75ee995831",
   "metadata": {},
   "outputs": [],
   "source": [
    "api_recipes = []\n",
    "for repo_recipe in repo.list():\n",
    "    recipe = Recipe.parse_obj(repo_recipe.data)\n",
    "    mealie_recipe = kptncook_to_mealie(recipe)\n",
    "    api_recipes.append(mealie_recipe)"
   ]
  },
  {
   "cell_type": "code",
   "execution_count": 18,
   "id": "44d3a2f8-fac7-49bc-9f40-222d58061416",
   "metadata": {},
   "outputs": [
    {
     "data": {
      "text/plain": [
       "6"
      ]
     },
     "execution_count": 18,
     "metadata": {},
     "output_type": "execute_result"
    }
   ],
   "source": [
    "len(api_recipes)"
   ]
  },
  {
   "cell_type": "code",
   "execution_count": 19,
   "id": "4e364ce4-0964-4088-8773-d1017e6fd9e1",
   "metadata": {},
   "outputs": [
    {
     "data": {
      "text/plain": [
       "{'kptncook_id': '5e5390e2740000cdf1381c64', 'source': 'kptncook'}"
      ]
     },
     "execution_count": 19,
     "metadata": {},
     "output_type": "execute_result"
    }
   ],
   "source": [
    "api_recipes[0].extras"
   ]
  },
  {
   "cell_type": "code",
   "execution_count": 22,
   "id": "4c9d7c33-8e5e-4707-9b23-bb3ef7e1b581",
   "metadata": {},
   "outputs": [],
   "source": [
    "ids_in_mealie = {r.extras[\"kptncook_id\"] for r in kc_recipes}\n",
    "ids_from_api = {r.extras[\"kptncook_id\"] for r in api_recipes}"
   ]
  },
  {
   "cell_type": "code",
   "execution_count": 25,
   "id": "cad30b2e-a436-4d59-8e61-a74767cfd5b6",
   "metadata": {},
   "outputs": [],
   "source": [
    "ids_to_add = ids_from_api - ids_in_mealie"
   ]
  },
  {
   "cell_type": "code",
   "execution_count": 26,
   "id": "25aad705-550c-4814-bc02-ee62e1bde64b",
   "metadata": {},
   "outputs": [],
   "source": [
    "recipes_to_add = []\n",
    "for recipe in api_recipes:\n",
    "    if recipe.extras.get(\"kptncook_id\") in ids_to_add:\n",
    "        recipes_to_add.append(recipe)"
   ]
  },
  {
   "cell_type": "code",
   "execution_count": 27,
   "id": "328e6b96-0db1-4d4e-bd26-b484fd612ca7",
   "metadata": {},
   "outputs": [
    {
     "data": {
      "text/plain": [
       "5"
      ]
     },
     "execution_count": 27,
     "metadata": {},
     "output_type": "execute_result"
    }
   ],
   "source": [
    "len(recipes_to_add)"
   ]
  },
  {
   "cell_type": "code",
   "execution_count": 28,
   "id": "aec4fb78-2101-4172-9969-594a7e416b83",
   "metadata": {},
   "outputs": [],
   "source": [
    "for recipe in recipes_to_add:\n",
    "    created = client.create_recipe(recipe)"
   ]
  },
  {
   "cell_type": "code",
   "execution_count": null,
   "id": "a322ad77-938c-4205-b7da-11ca9a4292c9",
   "metadata": {},
   "outputs": [],
   "source": []
  }
 ],
 "metadata": {
  "kernelspec": {
   "display_name": "Python 3 (ipykernel)",
   "language": "python",
   "name": "python3"
  },
  "language_info": {
   "codemirror_mode": {
    "name": "ipython",
    "version": 3
   },
   "file_extension": ".py",
   "mimetype": "text/x-python",
   "name": "python",
   "nbconvert_exporter": "python",
   "pygments_lexer": "ipython3",
   "version": "3.11.0"
  }
 },
 "nbformat": 4,
 "nbformat_minor": 5
}
