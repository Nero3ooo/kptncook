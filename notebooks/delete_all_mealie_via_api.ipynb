{
 "cells": [
  {
   "cell_type": "code",
   "execution_count": 1,
   "id": "2f87da8e-3211-4e2c-aab6-c6c5ee7ccbbc",
   "metadata": {},
   "outputs": [],
   "source": [
    "from kptncook.mealie import MealieApiClient"
   ]
  },
  {
   "cell_type": "code",
   "execution_count": 2,
   "id": "7d8b5c74-f2c6-476a-ad0d-6762617c5c52",
   "metadata": {},
   "outputs": [],
   "source": [
    "client = MealieApiClient(\"http://localhost:9000/api\")"
   ]
  },
  {
   "cell_type": "code",
   "execution_count": 3,
   "id": "982d2279-337f-4a5c-be95-fb44f400bd06",
   "metadata": {},
   "outputs": [
    {
     "name": "stdin",
     "output_type": "stream",
     "text": [
      " ········\n"
     ]
    }
   ],
   "source": [
    "client.login()"
   ]
  },
  {
   "cell_type": "code",
   "execution_count": 5,
   "id": "d0870eee-2320-4189-a916-e41285e6805d",
   "metadata": {},
   "outputs": [],
   "source": [
    "recipes = client.get_all_recipes()"
   ]
  },
  {
   "cell_type": "code",
   "execution_count": 6,
   "id": "1b519f59-4e74-4ec6-9823-4e75eba236e9",
   "metadata": {},
   "outputs": [
    {
     "name": "stdout",
     "output_type": "stream",
     "text": [
      "soba-nudeln-mit-brokkoli-pak-choi\n",
      "cremige-erbsen-minze-suppe-mit-bacon\n",
      "loaded-fries\n"
     ]
    }
   ],
   "source": [
    "for recipe in recipes:\n",
    "    print(recipe.slug)\n",
    "    result = client.delete_via_slug(recipe.slug)\n",
    "    print(result)"
   ]
  },
  {
   "cell_type": "code",
   "execution_count": null,
   "id": "91fdd370-3bae-466c-8f1c-aa1953c194b3",
   "metadata": {},
   "outputs": [],
   "source": []
  }
 ],
 "metadata": {
  "kernelspec": {
   "display_name": "Python 3 (ipykernel)",
   "language": "python",
   "name": "python3"
  },
  "language_info": {
   "codemirror_mode": {
    "name": "ipython",
    "version": 3
   },
   "file_extension": ".py",
   "mimetype": "text/x-python",
   "name": "python",
   "nbconvert_exporter": "python",
   "pygments_lexer": "ipython3",
   "version": "3.10.4"
  }
 },
 "nbformat": 4,
 "nbformat_minor": 5
}
